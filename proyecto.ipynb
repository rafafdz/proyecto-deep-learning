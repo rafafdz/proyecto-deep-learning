{
 "cells": [
  {
   "cell_type": "code",
   "execution_count": 1,
   "metadata": {},
   "outputs": [
    {
     "name": "stdout",
     "output_type": "stream",
     "text": [
      "Requirement already satisfied: datasets in /home/rafael/.pyenv/versions/3.8.10/lib/python3.8/site-packages (2.2.2)\n",
      "Requirement already satisfied: transformers in /home/rafael/.pyenv/versions/3.8.10/lib/python3.8/site-packages (4.19.2)\n",
      "Requirement already satisfied: spacy in /home/rafael/.pyenv/versions/3.8.10/lib/python3.8/site-packages (3.3.1)\n",
      "Requirement already satisfied: aiohttp in /home/rafael/.pyenv/versions/3.8.10/lib/python3.8/site-packages (from datasets) (3.8.1)\n",
      "Requirement already satisfied: xxhash in /home/rafael/.pyenv/versions/3.8.10/lib/python3.8/site-packages (from datasets) (3.0.0)\n",
      "Requirement already satisfied: dill<0.3.5 in /home/rafael/.pyenv/versions/3.8.10/lib/python3.8/site-packages (from datasets) (0.3.4)\n",
      "Requirement already satisfied: requests>=2.19.0 in /home/rafael/.pyenv/versions/3.8.10/lib/python3.8/site-packages (from datasets) (2.27.1)\n",
      "Requirement already satisfied: huggingface-hub<1.0.0,>=0.1.0 in /home/rafael/.pyenv/versions/3.8.10/lib/python3.8/site-packages (from datasets) (0.7.0)\n",
      "Requirement already satisfied: pyarrow>=6.0.0 in /home/rafael/.pyenv/versions/3.8.10/lib/python3.8/site-packages (from datasets) (8.0.0)\n",
      "Requirement already satisfied: multiprocess in /home/rafael/.pyenv/versions/3.8.10/lib/python3.8/site-packages (from datasets) (0.70.12.2)\n",
      "Requirement already satisfied: fsspec[http]>=2021.05.0 in /home/rafael/.pyenv/versions/3.8.10/lib/python3.8/site-packages (from datasets) (2022.5.0)\n",
      "Requirement already satisfied: responses<0.19 in /home/rafael/.pyenv/versions/3.8.10/lib/python3.8/site-packages (from datasets) (0.18.0)\n",
      "Requirement already satisfied: numpy>=1.17 in /home/rafael/.pyenv/versions/3.8.10/lib/python3.8/site-packages (from datasets) (1.22.3)\n",
      "Requirement already satisfied: tqdm>=4.62.1 in /home/rafael/.pyenv/versions/3.8.10/lib/python3.8/site-packages (from datasets) (4.64.0)\n",
      "Requirement already satisfied: packaging in /home/rafael/.pyenv/versions/3.8.10/lib/python3.8/site-packages (from datasets) (21.3)\n",
      "Requirement already satisfied: pandas in /home/rafael/.pyenv/versions/3.8.10/lib/python3.8/site-packages (from datasets) (1.4.2)\n",
      "Requirement already satisfied: pyyaml>=5.1 in /home/rafael/.pyenv/versions/3.8.10/lib/python3.8/site-packages (from huggingface-hub<1.0.0,>=0.1.0->datasets) (6.0)\n",
      "Requirement already satisfied: filelock in /home/rafael/.pyenv/versions/3.8.10/lib/python3.8/site-packages (from huggingface-hub<1.0.0,>=0.1.0->datasets) (3.6.0)\n",
      "Requirement already satisfied: typing-extensions>=3.7.4.3 in /home/rafael/.pyenv/versions/3.8.10/lib/python3.8/site-packages (from huggingface-hub<1.0.0,>=0.1.0->datasets) (4.2.0)\n",
      "Requirement already satisfied: pyparsing!=3.0.5,>=2.0.2 in /home/rafael/.pyenv/versions/3.8.10/lib/python3.8/site-packages (from packaging->datasets) (3.0.8)\n",
      "Requirement already satisfied: certifi>=2017.4.17 in /home/rafael/.pyenv/versions/3.8.10/lib/python3.8/site-packages (from requests>=2.19.0->datasets) (2021.10.8)\n",
      "Requirement already satisfied: urllib3<1.27,>=1.21.1 in /home/rafael/.pyenv/versions/3.8.10/lib/python3.8/site-packages (from requests>=2.19.0->datasets) (1.26.9)\n",
      "Requirement already satisfied: charset-normalizer~=2.0.0 in /home/rafael/.pyenv/versions/3.8.10/lib/python3.8/site-packages (from requests>=2.19.0->datasets) (2.0.12)\n",
      "Requirement already satisfied: idna<4,>=2.5 in /home/rafael/.pyenv/versions/3.8.10/lib/python3.8/site-packages (from requests>=2.19.0->datasets) (3.3)\n",
      "Requirement already satisfied: tokenizers!=0.11.3,<0.13,>=0.11.1 in /home/rafael/.pyenv/versions/3.8.10/lib/python3.8/site-packages (from transformers) (0.12.1)\n",
      "Requirement already satisfied: regex!=2019.12.17 in /home/rafael/.pyenv/versions/3.8.10/lib/python3.8/site-packages (from transformers) (2022.4.24)\n",
      "Requirement already satisfied: setuptools in /home/rafael/.pyenv/versions/3.8.10/lib/python3.8/site-packages (from spacy) (62.1.0)\n",
      "Requirement already satisfied: preshed<3.1.0,>=3.0.2 in /home/rafael/.pyenv/versions/3.8.10/lib/python3.8/site-packages (from spacy) (3.0.6)\n",
      "Requirement already satisfied: pathy>=0.3.5 in /home/rafael/.pyenv/versions/3.8.10/lib/python3.8/site-packages (from spacy) (0.6.2)\n",
      "Requirement already satisfied: cymem<2.1.0,>=2.0.2 in /home/rafael/.pyenv/versions/3.8.10/lib/python3.8/site-packages (from spacy) (2.0.6)\n",
      "Requirement already satisfied: spacy-loggers<2.0.0,>=1.0.0 in /home/rafael/.pyenv/versions/3.8.10/lib/python3.8/site-packages (from spacy) (1.0.2)\n",
      "Requirement already satisfied: langcodes<4.0.0,>=3.2.0 in /home/rafael/.pyenv/versions/3.8.10/lib/python3.8/site-packages (from spacy) (3.3.0)\n",
      "Requirement already satisfied: murmurhash<1.1.0,>=0.28.0 in /home/rafael/.pyenv/versions/3.8.10/lib/python3.8/site-packages (from spacy) (1.0.7)\n",
      "Requirement already satisfied: catalogue<2.1.0,>=2.0.6 in /home/rafael/.pyenv/versions/3.8.10/lib/python3.8/site-packages (from spacy) (2.0.7)\n",
      "Requirement already satisfied: spacy-legacy<3.1.0,>=3.0.9 in /home/rafael/.pyenv/versions/3.8.10/lib/python3.8/site-packages (from spacy) (3.0.9)\n",
      "Requirement already satisfied: blis<0.8.0,>=0.4.0 in /home/rafael/.pyenv/versions/3.8.10/lib/python3.8/site-packages (from spacy) (0.7.8)\n",
      "Requirement already satisfied: thinc<8.1.0,>=8.0.14 in /home/rafael/.pyenv/versions/3.8.10/lib/python3.8/site-packages (from spacy) (8.0.17)\n",
      "Requirement already satisfied: pydantic!=1.8,!=1.8.1,<1.9.0,>=1.7.4 in /home/rafael/.pyenv/versions/3.8.10/lib/python3.8/site-packages (from spacy) (1.8.2)\n",
      "Requirement already satisfied: typer<0.5.0,>=0.3.0 in /home/rafael/.pyenv/versions/3.8.10/lib/python3.8/site-packages (from spacy) (0.4.2)\n",
      "Requirement already satisfied: jinja2 in /home/rafael/.pyenv/versions/3.8.10/lib/python3.8/site-packages (from spacy) (3.1.2)\n",
      "Requirement already satisfied: wasabi<1.1.0,>=0.9.1 in /home/rafael/.pyenv/versions/3.8.10/lib/python3.8/site-packages (from spacy) (0.9.1)\n",
      "Requirement already satisfied: srsly<3.0.0,>=2.4.3 in /home/rafael/.pyenv/versions/3.8.10/lib/python3.8/site-packages (from spacy) (2.4.3)\n",
      "Requirement already satisfied: smart-open<6.0.0,>=5.2.1 in /home/rafael/.pyenv/versions/3.8.10/lib/python3.8/site-packages (from pathy>=0.3.5->spacy) (5.2.1)\n",
      "Requirement already satisfied: click<9.0.0,>=7.1.1 in /home/rafael/.pyenv/versions/3.8.10/lib/python3.8/site-packages (from typer<0.5.0,>=0.3.0->spacy) (8.1.3)\n",
      "Requirement already satisfied: yarl<2.0,>=1.0 in /home/rafael/.pyenv/versions/3.8.10/lib/python3.8/site-packages (from aiohttp->datasets) (1.7.2)\n",
      "Requirement already satisfied: attrs>=17.3.0 in /home/rafael/.pyenv/versions/3.8.10/lib/python3.8/site-packages (from aiohttp->datasets) (21.4.0)\n",
      "Requirement already satisfied: frozenlist>=1.1.1 in /home/rafael/.pyenv/versions/3.8.10/lib/python3.8/site-packages (from aiohttp->datasets) (1.3.0)\n",
      "Requirement already satisfied: aiosignal>=1.1.2 in /home/rafael/.pyenv/versions/3.8.10/lib/python3.8/site-packages (from aiohttp->datasets) (1.2.0)\n",
      "Requirement already satisfied: async-timeout<5.0,>=4.0.0a3 in /home/rafael/.pyenv/versions/3.8.10/lib/python3.8/site-packages (from aiohttp->datasets) (4.0.2)\n",
      "Requirement already satisfied: multidict<7.0,>=4.5 in /home/rafael/.pyenv/versions/3.8.10/lib/python3.8/site-packages (from aiohttp->datasets) (6.0.2)\n",
      "Requirement already satisfied: MarkupSafe>=2.0 in /home/rafael/.pyenv/versions/3.8.10/lib/python3.8/site-packages (from jinja2->spacy) (2.1.1)\n",
      "Requirement already satisfied: python-dateutil>=2.8.1 in /home/rafael/.pyenv/versions/3.8.10/lib/python3.8/site-packages (from pandas->datasets) (2.8.2)\n",
      "Requirement already satisfied: pytz>=2020.1 in /home/rafael/.pyenv/versions/3.8.10/lib/python3.8/site-packages (from pandas->datasets) (2022.1)\n",
      "Requirement already satisfied: six>=1.5 in /home/rafael/.pyenv/versions/3.8.10/lib/python3.8/site-packages (from python-dateutil>=2.8.1->pandas->datasets) (1.16.0)\n",
      "\u001b[33mWARNING: You are using pip version 21.1.1; however, version 22.1.2 is available.\n",
      "You should consider upgrading via the '/home/rafael/.pyenv/versions/3.8.10/bin/python3.8 -m pip install --upgrade pip' command.\u001b[0m\n",
      "Collecting en-core-web-sm==3.3.0\n",
      "  Downloading https://github.com/explosion/spacy-models/releases/download/en_core_web_sm-3.3.0/en_core_web_sm-3.3.0-py3-none-any.whl (12.8 MB)\n",
      "\u001b[K     |████████████████████████████████| 12.8 MB 10.8 MB/s eta 0:00:01\n",
      "\u001b[?25hRequirement already satisfied: spacy<3.4.0,>=3.3.0.dev0 in /home/rafael/.pyenv/versions/3.8.10/lib/python3.8/site-packages (from en-core-web-sm==3.3.0) (3.3.1)\n",
      "Requirement already satisfied: spacy-legacy<3.1.0,>=3.0.9 in /home/rafael/.pyenv/versions/3.8.10/lib/python3.8/site-packages (from spacy<3.4.0,>=3.3.0.dev0->en-core-web-sm==3.3.0) (3.0.9)\n",
      "Requirement already satisfied: numpy>=1.15.0 in /home/rafael/.pyenv/versions/3.8.10/lib/python3.8/site-packages (from spacy<3.4.0,>=3.3.0.dev0->en-core-web-sm==3.3.0) (1.22.3)\n",
      "Requirement already satisfied: setuptools in /home/rafael/.pyenv/versions/3.8.10/lib/python3.8/site-packages (from spacy<3.4.0,>=3.3.0.dev0->en-core-web-sm==3.3.0) (62.1.0)\n",
      "Requirement already satisfied: blis<0.8.0,>=0.4.0 in /home/rafael/.pyenv/versions/3.8.10/lib/python3.8/site-packages (from spacy<3.4.0,>=3.3.0.dev0->en-core-web-sm==3.3.0) (0.7.8)\n",
      "Requirement already satisfied: requests<3.0.0,>=2.13.0 in /home/rafael/.pyenv/versions/3.8.10/lib/python3.8/site-packages (from spacy<3.4.0,>=3.3.0.dev0->en-core-web-sm==3.3.0) (2.27.1)\n",
      "Requirement already satisfied: spacy-loggers<2.0.0,>=1.0.0 in /home/rafael/.pyenv/versions/3.8.10/lib/python3.8/site-packages (from spacy<3.4.0,>=3.3.0.dev0->en-core-web-sm==3.3.0) (1.0.2)\n",
      "Requirement already satisfied: murmurhash<1.1.0,>=0.28.0 in /home/rafael/.pyenv/versions/3.8.10/lib/python3.8/site-packages (from spacy<3.4.0,>=3.3.0.dev0->en-core-web-sm==3.3.0) (1.0.7)\n",
      "Requirement already satisfied: wasabi<1.1.0,>=0.9.1 in /home/rafael/.pyenv/versions/3.8.10/lib/python3.8/site-packages (from spacy<3.4.0,>=3.3.0.dev0->en-core-web-sm==3.3.0) (0.9.1)\n",
      "Requirement already satisfied: langcodes<4.0.0,>=3.2.0 in /home/rafael/.pyenv/versions/3.8.10/lib/python3.8/site-packages (from spacy<3.4.0,>=3.3.0.dev0->en-core-web-sm==3.3.0) (3.3.0)\n",
      "Requirement already satisfied: preshed<3.1.0,>=3.0.2 in /home/rafael/.pyenv/versions/3.8.10/lib/python3.8/site-packages (from spacy<3.4.0,>=3.3.0.dev0->en-core-web-sm==3.3.0) (3.0.6)\n",
      "Requirement already satisfied: cymem<2.1.0,>=2.0.2 in /home/rafael/.pyenv/versions/3.8.10/lib/python3.8/site-packages (from spacy<3.4.0,>=3.3.0.dev0->en-core-web-sm==3.3.0) (2.0.6)\n",
      "Requirement already satisfied: pathy>=0.3.5 in /home/rafael/.pyenv/versions/3.8.10/lib/python3.8/site-packages (from spacy<3.4.0,>=3.3.0.dev0->en-core-web-sm==3.3.0) (0.6.2)\n",
      "Requirement already satisfied: jinja2 in /home/rafael/.pyenv/versions/3.8.10/lib/python3.8/site-packages (from spacy<3.4.0,>=3.3.0.dev0->en-core-web-sm==3.3.0) (3.1.2)\n",
      "Requirement already satisfied: srsly<3.0.0,>=2.4.3 in /home/rafael/.pyenv/versions/3.8.10/lib/python3.8/site-packages (from spacy<3.4.0,>=3.3.0.dev0->en-core-web-sm==3.3.0) (2.4.3)\n",
      "Requirement already satisfied: typer<0.5.0,>=0.3.0 in /home/rafael/.pyenv/versions/3.8.10/lib/python3.8/site-packages (from spacy<3.4.0,>=3.3.0.dev0->en-core-web-sm==3.3.0) (0.4.2)\n",
      "Requirement already satisfied: pydantic!=1.8,!=1.8.1,<1.9.0,>=1.7.4 in /home/rafael/.pyenv/versions/3.8.10/lib/python3.8/site-packages (from spacy<3.4.0,>=3.3.0.dev0->en-core-web-sm==3.3.0) (1.8.2)\n",
      "Requirement already satisfied: tqdm<5.0.0,>=4.38.0 in /home/rafael/.pyenv/versions/3.8.10/lib/python3.8/site-packages (from spacy<3.4.0,>=3.3.0.dev0->en-core-web-sm==3.3.0) (4.64.0)\n",
      "Requirement already satisfied: catalogue<2.1.0,>=2.0.6 in /home/rafael/.pyenv/versions/3.8.10/lib/python3.8/site-packages (from spacy<3.4.0,>=3.3.0.dev0->en-core-web-sm==3.3.0) (2.0.7)\n",
      "Requirement already satisfied: thinc<8.1.0,>=8.0.14 in /home/rafael/.pyenv/versions/3.8.10/lib/python3.8/site-packages (from spacy<3.4.0,>=3.3.0.dev0->en-core-web-sm==3.3.0) (8.0.17)\n",
      "Requirement already satisfied: packaging>=20.0 in /home/rafael/.pyenv/versions/3.8.10/lib/python3.8/site-packages (from spacy<3.4.0,>=3.3.0.dev0->en-core-web-sm==3.3.0) (21.3)\n",
      "Requirement already satisfied: pyparsing!=3.0.5,>=2.0.2 in /home/rafael/.pyenv/versions/3.8.10/lib/python3.8/site-packages (from packaging>=20.0->spacy<3.4.0,>=3.3.0.dev0->en-core-web-sm==3.3.0) (3.0.8)\n",
      "Requirement already satisfied: smart-open<6.0.0,>=5.2.1 in /home/rafael/.pyenv/versions/3.8.10/lib/python3.8/site-packages (from pathy>=0.3.5->spacy<3.4.0,>=3.3.0.dev0->en-core-web-sm==3.3.0) (5.2.1)\n",
      "Requirement already satisfied: typing-extensions>=3.7.4.3 in /home/rafael/.pyenv/versions/3.8.10/lib/python3.8/site-packages (from pydantic!=1.8,!=1.8.1,<1.9.0,>=1.7.4->spacy<3.4.0,>=3.3.0.dev0->en-core-web-sm==3.3.0) (4.2.0)\n",
      "Requirement already satisfied: charset-normalizer~=2.0.0 in /home/rafael/.pyenv/versions/3.8.10/lib/python3.8/site-packages (from requests<3.0.0,>=2.13.0->spacy<3.4.0,>=3.3.0.dev0->en-core-web-sm==3.3.0) (2.0.12)\n",
      "Requirement already satisfied: urllib3<1.27,>=1.21.1 in /home/rafael/.pyenv/versions/3.8.10/lib/python3.8/site-packages (from requests<3.0.0,>=2.13.0->spacy<3.4.0,>=3.3.0.dev0->en-core-web-sm==3.3.0) (1.26.9)\n",
      "Requirement already satisfied: idna<4,>=2.5 in /home/rafael/.pyenv/versions/3.8.10/lib/python3.8/site-packages (from requests<3.0.0,>=2.13.0->spacy<3.4.0,>=3.3.0.dev0->en-core-web-sm==3.3.0) (3.3)\n",
      "Requirement already satisfied: certifi>=2017.4.17 in /home/rafael/.pyenv/versions/3.8.10/lib/python3.8/site-packages (from requests<3.0.0,>=2.13.0->spacy<3.4.0,>=3.3.0.dev0->en-core-web-sm==3.3.0) (2021.10.8)\n",
      "Requirement already satisfied: click<9.0.0,>=7.1.1 in /home/rafael/.pyenv/versions/3.8.10/lib/python3.8/site-packages (from typer<0.5.0,>=0.3.0->spacy<3.4.0,>=3.3.0.dev0->en-core-web-sm==3.3.0) (8.1.3)\n",
      "Requirement already satisfied: MarkupSafe>=2.0 in /home/rafael/.pyenv/versions/3.8.10/lib/python3.8/site-packages (from jinja2->spacy<3.4.0,>=3.3.0.dev0->en-core-web-sm==3.3.0) (2.1.1)\n",
      "\u001b[33mWARNING: You are using pip version 21.1.1; however, version 22.1.2 is available.\n",
      "You should consider upgrading via the '/home/rafael/.pyenv/versions/3.8.10/bin/python -m pip install --upgrade pip' command.\u001b[0m\n",
      "\u001b[38;5;2m✔ Download and installation successful\u001b[0m\n",
      "You can now load the package via spacy.load('en_core_web_sm')\n"
     ]
    }
   ],
   "source": [
    "!pip install datasets transformers spacy\n",
    "!python -m spacy download en_core_web_sm"
   ]
  },
  {
   "cell_type": "code",
   "execution_count": 2,
   "metadata": {},
   "outputs": [
    {
     "name": "stderr",
     "output_type": "stream",
     "text": [
      "/home/rafael/.pyenv/versions/3.8.10/lib/python3.8/site-packages/tqdm/auto.py:22: TqdmWarning: IProgress not found. Please update jupyter and ipywidgets. See https://ipywidgets.readthedocs.io/en/stable/user_install.html\n",
      "  from .autonotebook import tqdm as notebook_tqdm\n"
     ]
    }
   ],
   "source": [
    "from datasets import load_dataset, load_metric\n",
    "import numpy as np\n",
    "import torch\n",
    "import torch.nn as nn"
   ]
  },
  {
   "cell_type": "code",
   "execution_count": 3,
   "metadata": {},
   "outputs": [
    {
     "name": "stderr",
     "output_type": "stream",
     "text": [
      "Reusing dataset super_glue (/home/rafael/.cache/huggingface/datasets/super_glue/rte/1.0.2/d040c658e2ddef6934fdd97deb45c777b6ff50c524781ea434e7219b56a428a7)\n",
      "100%|██████████| 3/3 [00:00<00:00, 147.27it/s]\n"
     ]
    }
   ],
   "source": [
    "dataset = load_dataset('super_glue', 'rte')"
   ]
  },
  {
   "cell_type": "code",
   "execution_count": null,
   "metadata": {},
   "outputs": [],
   "source": []
  },
  {
   "cell_type": "code",
   "execution_count": 4,
   "metadata": {},
   "outputs": [],
   "source": [
    "\n",
    "import spacy\n",
    "spacy_en = spacy.load('en_core_web_sm')\n",
    "\n",
    "import gensim.downloader as api\n",
    "wv = api.load('word2vec-google-news-300')"
   ]
  },
  {
   "cell_type": "code",
   "execution_count": 5,
   "metadata": {},
   "outputs": [],
   "source": [
    "def tokenize_word2vec(sentence):\n",
    "    tokens = [tok.text for tok in spacy_en.tokenizer(sentence)]\n",
    "    return [wv.vocab[tok].index for tok in tokens if tok in wv]"
   ]
  },
  {
   "cell_type": "code",
   "execution_count": null,
   "metadata": {},
   "outputs": [],
   "source": [
    "def vectorize_word2vec(sentence):\n",
    "    "
   ]
  },
  {
   "cell_type": "code",
   "execution_count": 6,
   "metadata": {},
   "outputs": [
    {
     "ename": "AttributeError",
     "evalue": "The vocab attribute was removed from KeyedVector in Gensim 4.0.0.\nUse KeyedVector's .key_to_index dict, .index_to_key list, and methods .get_vecattr(key, attr) and .set_vecattr(key, attr, new_val) instead.\nSee https://github.com/RaRe-Technologies/gensim/wiki/Migrating-from-Gensim-3.x-to-4",
     "output_type": "error",
     "traceback": [
      "\u001b[0;31m---------------------------------------------------------------------------\u001b[0m",
      "\u001b[0;31mAttributeError\u001b[0m                            Traceback (most recent call last)",
      "\u001b[1;32m/mnt/shared/Documents/deep-learning/proyecto/proy.ipynb Cell 8'\u001b[0m in \u001b[0;36m<cell line: 1>\u001b[0;34m()\u001b[0m\n\u001b[0;32m----> <a href='vscode-notebook-cell:/mnt/shared/Documents/deep-learning/proyecto/proy.ipynb#ch0000006?line=0'>1</a>\u001b[0m tokenize_word2vec(\u001b[39m'\u001b[39;49m\u001b[39mhello beautiful, how are you\u001b[39;49m\u001b[39m'\u001b[39;49m)\n",
      "\u001b[1;32m/mnt/shared/Documents/deep-learning/proyecto/proy.ipynb Cell 6'\u001b[0m in \u001b[0;36mtokenize_word2vec\u001b[0;34m(sentence)\u001b[0m\n\u001b[1;32m      <a href='vscode-notebook-cell:/mnt/shared/Documents/deep-learning/proyecto/proy.ipynb#ch0000008?line=0'>1</a>\u001b[0m \u001b[39mdef\u001b[39;00m \u001b[39mtokenize_word2vec\u001b[39m(sentence):\n\u001b[1;32m      <a href='vscode-notebook-cell:/mnt/shared/Documents/deep-learning/proyecto/proy.ipynb#ch0000008?line=1'>2</a>\u001b[0m     tokens \u001b[39m=\u001b[39m [tok\u001b[39m.\u001b[39mtext \u001b[39mfor\u001b[39;00m tok \u001b[39min\u001b[39;00m spacy_en\u001b[39m.\u001b[39mtokenizer(sentence)]\n\u001b[0;32m----> <a href='vscode-notebook-cell:/mnt/shared/Documents/deep-learning/proyecto/proy.ipynb#ch0000008?line=2'>3</a>\u001b[0m     \u001b[39mreturn\u001b[39;00m [wv\u001b[39m.\u001b[39mvocab[tok]\u001b[39m.\u001b[39mindex \u001b[39mfor\u001b[39;00m tok \u001b[39min\u001b[39;00m tokens \u001b[39mif\u001b[39;00m tok \u001b[39min\u001b[39;00m wv]\n",
      "\u001b[1;32m/mnt/shared/Documents/deep-learning/proyecto/proy.ipynb Cell 6'\u001b[0m in \u001b[0;36m<listcomp>\u001b[0;34m(.0)\u001b[0m\n\u001b[1;32m      <a href='vscode-notebook-cell:/mnt/shared/Documents/deep-learning/proyecto/proy.ipynb#ch0000008?line=0'>1</a>\u001b[0m \u001b[39mdef\u001b[39;00m \u001b[39mtokenize_word2vec\u001b[39m(sentence):\n\u001b[1;32m      <a href='vscode-notebook-cell:/mnt/shared/Documents/deep-learning/proyecto/proy.ipynb#ch0000008?line=1'>2</a>\u001b[0m     tokens \u001b[39m=\u001b[39m [tok\u001b[39m.\u001b[39mtext \u001b[39mfor\u001b[39;00m tok \u001b[39min\u001b[39;00m spacy_en\u001b[39m.\u001b[39mtokenizer(sentence)]\n\u001b[0;32m----> <a href='vscode-notebook-cell:/mnt/shared/Documents/deep-learning/proyecto/proy.ipynb#ch0000008?line=2'>3</a>\u001b[0m     \u001b[39mreturn\u001b[39;00m [wv\u001b[39m.\u001b[39;49mvocab[tok]\u001b[39m.\u001b[39mindex \u001b[39mfor\u001b[39;00m tok \u001b[39min\u001b[39;00m tokens \u001b[39mif\u001b[39;00m tok \u001b[39min\u001b[39;00m wv]\n",
      "File \u001b[0;32m~/.pyenv/versions/3.8.10/lib/python3.8/site-packages/gensim/models/keyedvectors.py:735\u001b[0m, in \u001b[0;36mKeyedVectors.vocab\u001b[0;34m(self)\u001b[0m\n\u001b[1;32m    733\u001b[0m \u001b[39m@property\u001b[39m\n\u001b[1;32m    734\u001b[0m \u001b[39mdef\u001b[39;00m \u001b[39mvocab\u001b[39m(\u001b[39mself\u001b[39m):\n\u001b[0;32m--> 735\u001b[0m     \u001b[39mraise\u001b[39;00m \u001b[39mAttributeError\u001b[39;00m(\n\u001b[1;32m    736\u001b[0m         \u001b[39m\"\u001b[39m\u001b[39mThe vocab attribute was removed from KeyedVector in Gensim 4.0.0.\u001b[39m\u001b[39m\\n\u001b[39;00m\u001b[39m\"\u001b[39m\n\u001b[1;32m    737\u001b[0m         \u001b[39m\"\u001b[39m\u001b[39mUse KeyedVector\u001b[39m\u001b[39m'\u001b[39m\u001b[39ms .key_to_index dict, .index_to_key list, and methods \u001b[39m\u001b[39m\"\u001b[39m\n\u001b[1;32m    738\u001b[0m         \u001b[39m\"\u001b[39m\u001b[39m.get_vecattr(key, attr) and .set_vecattr(key, attr, new_val) instead.\u001b[39m\u001b[39m\\n\u001b[39;00m\u001b[39m\"\u001b[39m\n\u001b[1;32m    739\u001b[0m         \u001b[39m\"\u001b[39m\u001b[39mSee https://github.com/RaRe-Technologies/gensim/wiki/Migrating-from-Gensim-3.x-to-4\u001b[39m\u001b[39m\"\u001b[39m\n\u001b[1;32m    740\u001b[0m     )\n",
      "\u001b[0;31mAttributeError\u001b[0m: The vocab attribute was removed from KeyedVector in Gensim 4.0.0.\nUse KeyedVector's .key_to_index dict, .index_to_key list, and methods .get_vecattr(key, attr) and .set_vecattr(key, attr, new_val) instead.\nSee https://github.com/RaRe-Technologies/gensim/wiki/Migrating-from-Gensim-3.x-to-4"
     ]
    }
   ],
   "source": [
    "tokenize_word2vec('hello beautiful, how are you')"
   ]
  },
  {
   "cell_type": "code",
   "execution_count": null,
   "metadata": {},
   "outputs": [],
   "source": []
  }
 ],
 "metadata": {
  "kernelspec": {
   "display_name": "Python 3.8.10 64-bit ('3.8.10')",
   "language": "python",
   "name": "python3"
  },
  "language_info": {
   "codemirror_mode": {
    "name": "ipython",
    "version": 3
   },
   "file_extension": ".py",
   "mimetype": "text/x-python",
   "name": "python",
   "nbconvert_exporter": "python",
   "pygments_lexer": "ipython3",
   "version": "3.8.10"
  },
  "orig_nbformat": 4,
  "vscode": {
   "interpreter": {
    "hash": "1fa469dbe2d4b3b90af358ba36b107d68e623ddafe83140598297fa5bed3dc44"
   }
  }
 },
 "nbformat": 4,
 "nbformat_minor": 2
}
